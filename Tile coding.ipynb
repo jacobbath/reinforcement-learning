{
 "cells": [
  {
   "cell_type": "code",
   "execution_count": 4,
   "metadata": {},
   "outputs": [],
   "source": [
    "import gym\n",
    "import numpy as np"
   ]
  },
  {
   "cell_type": "code",
   "execution_count": 2,
   "metadata": {},
   "outputs": [],
   "source": [
    "env = gym.make('MountainCar-v0')"
   ]
  },
  {
   "cell_type": "code",
   "execution_count": 3,
   "metadata": {},
   "outputs": [
    {
     "data": {
      "text/plain": [
       "array([-0.59607387,  0.        ])"
      ]
     },
     "execution_count": 3,
     "metadata": {},
     "output_type": "execute_result"
    }
   ],
   "source": [
    "env.reset()"
   ]
  },
  {
   "cell_type": "code",
   "execution_count": 9,
   "metadata": {},
   "outputs": [
    {
     "data": {
      "text/plain": [
       "array([0.1, 0.2, 0.3, 0.4, 0.5, 0.6, 0.7, 0.8, 0.9])"
      ]
     },
     "execution_count": 9,
     "metadata": {},
     "output_type": "execute_result"
    }
   ],
   "source": [
    "\n",
    "\n",
    "def create_tiling(feat_range, bins, offset):\n",
    "    \"\"\"\n",
    "    Create 1 tiling spec of 1 dimension(feature)\n",
    "    feat_range: feature range; example: [-1, 1]\n",
    "    bins: number of bins for that feature; example: 10\n",
    "    offset: offset for that feature; example: 0.2\n",
    "    \"\"\"\n",
    "    \n",
    "    return np.linspace(feat_range[0], feat_range[1], bins+1)[1:-1] + offset\n",
    "  \n",
    "feat_range = [0, 1.0]\n",
    "bins = 10\n",
    "offset = 0.2\n",
    "\n",
    "tiling_spec = create_tiling(feat_range, bins, offset)\n",
    "\n",
    "# array([0.3, 0.4, 0.5, 0.6, 0.7, 0.8, 0.9, 1. , 1.1])\n",
    "\n",
    "np.linspace(feat_range[0], feat_range[1], bins+1)[1:-1]"
   ]
  },
  {
   "cell_type": "code",
   "execution_count": 10,
   "metadata": {},
   "outputs": [
    {
     "name": "stdout",
     "output_type": "stream",
     "text": [
      "(3, 2, 9)\n"
     ]
    }
   ],
   "source": [
    "def create_tilings(feature_ranges, number_tilings, bins, offsets):\n",
    "        \"\"\"\n",
    "        feature_ranges: range of each feature; example: x: [-1, 1], y: [2, 5] -> [[-1, 1], [2, 5]]\n",
    "        number_tilings: number of tilings; example: 3 tilings\n",
    "        bins: bin size for each tiling and dimension; example: [[10, 10], [10, 10], [10, 10]]: 3 tilings * [x_bin, y_bin]\n",
    "        offsets: offset for each tiling and dimension; example: [[0, 0], [0.2, 1], [0.4, 1.5]]: 3 tilings * [x_offset, y_offset]\n",
    "        \"\"\"\n",
    "        tilings = []\n",
    "        # for each tiling\n",
    "        for tile_i in range(number_tilings):\n",
    "            tiling_bin = bins[tile_i]\n",
    "            tiling_offset = offsets[tile_i]\n",
    "\n",
    "            tiling = []\n",
    "            # for each feature dimension\n",
    "            for feat_i in range(len(feature_ranges)):\n",
    "                feat_range = feature_ranges[feat_i]\n",
    "                # tiling for 1 feature\n",
    "                feat_tiling = create_tiling(feat_range, tiling_bin[feat_i], tiling_offset[feat_i])\n",
    "                tiling.append(feat_tiling)\n",
    "            tilings.append(tiling)\n",
    "        return np.array(tilings)\n",
    " \n",
    "feature_ranges = [[-1, 1], [2, 5]]  # 2 features\n",
    "number_tilings = 3\n",
    "bins = [[10, 10], [10, 10], [10, 10]]  # each tiling has a 10*10 grid\n",
    "offsets = [[0, 0], [0.2, 1], [0.4, 1.5]]\n",
    "\n",
    "tilings = create_tilings(feature_ranges, number_tilings, bins, offsets)\n",
    "\n",
    "print(tilings.shape)  # # of tilings X features X bins\n",
    "\n",
    "# (3, 2, 9)"
   ]
  },
  {
   "cell_type": "code",
   "execution_count": 11,
   "metadata": {},
   "outputs": [
    {
     "data": {
      "text/plain": [
       "array([[[-8.00000000e-01, -6.00000000e-01, -4.00000000e-01,\n",
       "         -2.00000000e-01,  0.00000000e+00,  2.00000000e-01,\n",
       "          4.00000000e-01,  6.00000000e-01,  8.00000000e-01],\n",
       "        [ 2.30000000e+00,  2.60000000e+00,  2.90000000e+00,\n",
       "          3.20000000e+00,  3.50000000e+00,  3.80000000e+00,\n",
       "          4.10000000e+00,  4.40000000e+00,  4.70000000e+00]],\n",
       "\n",
       "       [[-6.00000000e-01, -4.00000000e-01, -2.00000000e-01,\n",
       "          5.55111512e-17,  2.00000000e-01,  4.00000000e-01,\n",
       "          6.00000000e-01,  8.00000000e-01,  1.00000000e+00],\n",
       "        [ 3.30000000e+00,  3.60000000e+00,  3.90000000e+00,\n",
       "          4.20000000e+00,  4.50000000e+00,  4.80000000e+00,\n",
       "          5.10000000e+00,  5.40000000e+00,  5.70000000e+00]],\n",
       "\n",
       "       [[-4.00000000e-01, -2.00000000e-01,  1.11022302e-16,\n",
       "          2.00000000e-01,  4.00000000e-01,  6.00000000e-01,\n",
       "          8.00000000e-01,  1.00000000e+00,  1.20000000e+00],\n",
       "        [ 3.80000000e+00,  4.10000000e+00,  4.40000000e+00,\n",
       "          4.70000000e+00,  5.00000000e+00,  5.30000000e+00,\n",
       "          5.60000000e+00,  5.90000000e+00,  6.20000000e+00]]])"
      ]
     },
     "execution_count": 11,
     "metadata": {},
     "output_type": "execute_result"
    }
   ],
   "source": [
    "tilings"
   ]
  },
  {
   "cell_type": "code",
   "execution_count": 48,
   "metadata": {},
   "outputs": [],
   "source": [
    "low = env.observation_space.low[0]; high = env.observation_space.high[0] "
   ]
  },
  {
   "cell_type": "code",
   "execution_count": 57,
   "metadata": {},
   "outputs": [],
   "source": [
    "def create_tiling(low, high, no_tiles, offset):\n",
    "    return np.linspace(low, high, no_tiles) + offset"
   ]
  },
  {
   "cell_type": "code",
   "execution_count": 55,
   "metadata": {},
   "outputs": [
    {
     "data": {
      "text/plain": [
       "0.45000001788139343"
      ]
     },
     "execution_count": 55,
     "metadata": {},
     "output_type": "execute_result"
    }
   ],
   "source": [
    "offset = (high - low) / no_tiles\n",
    "offset"
   ]
  },
  {
   "cell_type": "code",
   "execution_count": 67,
   "metadata": {},
   "outputs": [
    {
     "data": {
      "text/plain": [
       "[array([-1.20000005, -0.60000002,  0.        ,  0.60000002]),\n",
       " array([-1.08750004, -0.48750002,  0.1125    ,  0.71250003]),\n",
       " array([-0.97500004, -0.37500001,  0.22500001,  0.82500003]),\n",
       " array([-0.86250003, -0.26250001,  0.33750001,  0.93750004])]"
      ]
     },
     "execution_count": 67,
     "metadata": {},
     "output_type": "execute_result"
    }
   ],
   "source": [
    "no_tiles = 4\n",
    "low = env.observation_space.low[0]; high = env.observation_space.high[0]\n",
    "\n",
    "\n",
    "def create_tilings(low, high, no_tiles):\n",
    "    \n",
    "    offset = (high - low) / no_tiles / no_tiles\n",
    "    tilings = []\n",
    "    for t in range(no_tiles):\n",
    "        tiling = np.linspace(low, high, no_tiles) + offset * t\n",
    "        tilings.append(tiling)\n",
    "    return tilings\n",
    "\n",
    "\n",
    "tiling_pos = create_tilings(low, high, no_tiles)\n",
    "tiling_pos"
   ]
  },
  {
   "cell_type": "code",
   "execution_count": 110,
   "metadata": {
    "scrolled": true
   },
   "outputs": [
    {
     "name": "stdout",
     "output_type": "stream",
     "text": [
      "[0 1 0 0 1 0 0 0 1 0 0 0 1 0 0 0]\n"
     ]
    }
   ],
   "source": [
    "pos = -1.19\n",
    "vector = np.empty(0, dtype=np.int16)\n",
    "for tile in tiling_pos:\n",
    "    idx = np.where(tile > pos)[0][0]\n",
    "    vector = np.append(vector, np.eye(no_tiles, dtype=np.int16)[idx])\n",
    "\n",
    "print(vector)"
   ]
  },
  {
   "cell_type": "code",
   "execution_count": 108,
   "metadata": {},
   "outputs": [
    {
     "data": {
      "text/plain": [
       "array([], dtype=int16)"
      ]
     },
     "execution_count": 108,
     "metadata": {},
     "output_type": "execute_result"
    }
   ],
   "source": [
    "np.empty(0, dtype=np.int16)"
   ]
  },
  {
   "cell_type": "code",
   "execution_count": 86,
   "metadata": {},
   "outputs": [
    {
     "data": {
      "text/plain": [
       "0"
      ]
     },
     "execution_count": 86,
     "metadata": {},
     "output_type": "execute_result"
    }
   ],
   "source": [
    "arr = np.array([1, 2, 3, 4, 5, 6])\n",
    "np.where(3 >= arr)[0][0]"
   ]
  }
 ],
 "metadata": {
  "kernelspec": {
   "display_name": "snowflake",
   "language": "python",
   "name": "snowflake"
  },
  "language_info": {
   "codemirror_mode": {
    "name": "ipython",
    "version": 3
   },
   "file_extension": ".py",
   "mimetype": "text/x-python",
   "name": "python",
   "nbconvert_exporter": "python",
   "pygments_lexer": "ipython3",
   "version": "3.8.0"
  }
 },
 "nbformat": 4,
 "nbformat_minor": 2
}
