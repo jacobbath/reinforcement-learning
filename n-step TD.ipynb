{
 "cells": [
  {
   "cell_type": "code",
   "execution_count": 320,
   "metadata": {},
   "outputs": [],
   "source": [
    "import gym\n",
    "from gym import error, spaces, utils\n",
    "from gym.utils import seeding\n",
    "import numpy as np\n",
    "import itertools\n",
    "import matplotlib.pyplot as plt"
   ]
  },
  {
   "cell_type": "code",
   "execution_count": 280,
   "metadata": {},
   "outputs": [],
   "source": [
    "class RandomWalkEnv(gym.Env):\n",
    "    metadata = {'render.modes': ['human']}\n",
    "\n",
    "    def __init__(self, size):\n",
    "        self.action_space = spaces.Discrete(2)\n",
    "        self.size = size\n",
    "    \n",
    "    def step(self):\n",
    "        reward = 0\n",
    "        action = np.random.randint(0, 2)\n",
    "        done = False\n",
    "        if (action == 0):\n",
    "            self.state -= 1\n",
    "        if (action == 1):\n",
    "            self.state += 1\n",
    "        if (self.state >= self.size):\n",
    "            reward = 1\n",
    "            done = True\n",
    "        if (self.state < 0):\n",
    "            done = True\n",
    "        return np.array(self.state), reward, done, {}\n",
    "    \n",
    "    def reset(self):\n",
    "        self.state =  int(self.size/2)\n",
    "        return self.state\n",
    "    \n",
    "    def render(self, mode='human', close=False):\n",
    "        if close:\n",
    "            return\n",
    "        for i in range(self.size):\n",
    "            if i == self.state:\n",
    "                print('O', end=' ')\n",
    "            else:\n",
    "                print('––', end=' ')"
   ]
  },
  {
   "cell_type": "code",
   "execution_count": 281,
   "metadata": {},
   "outputs": [],
   "source": [
    "env = RandomWalkEnv(19)"
   ]
  },
  {
   "cell_type": "code",
   "execution_count": 284,
   "metadata": {},
   "outputs": [
    {
     "data": {
      "text/plain": [
       "9"
      ]
     },
     "execution_count": 284,
     "metadata": {},
     "output_type": "execute_result"
    }
   ],
   "source": [
    "env.reset()"
   ]
  },
  {
   "cell_type": "code",
   "execution_count": 368,
   "metadata": {},
   "outputs": [
    {
     "name": "stdout",
     "output_type": "stream",
     "text": [
      "[0.03279109151785707, 0.07266329462016821, 0.10538319398524297, 0.15058216624903648, 0.1892666514322973, 0.22788568947709073, 0.27080819729855377, 0.31422991340621154, 0.3528924406517128, 0.41537005857963444, 0.4629060466736148, 0.5283680259538754, 0.5782864819174163, 0.6406897011347166, 0.6645597662695922, 0.7318134516006161, 0.7912950217819573, 0.8701934290577764, 0.9334666346893216]\n"
     ]
    }
   ],
   "source": [
    "num_episodes = 1000\n",
    "alpha = 0.01\n",
    "n = 4\n",
    "V = [0.] * 19\n",
    "\n",
    "for i_episode in range(num_episodes+1):\n",
    "    state = env.reset()\n",
    "    T = 999999\n",
    "    episode_rewards = []\n",
    "    episode_states = []\n",
    "    episode_states.append(state)\n",
    "    for t in itertools.count():\n",
    "        if t < T:\n",
    "            next_state, reward, done, _ = env.step()\n",
    "            episode_rewards.append(reward)\n",
    "            episode_states.append(next_state)\n",
    "            if done:\n",
    "                T = t + 1\n",
    "        \n",
    "        update_idx = t - n + 1\n",
    "        if update_idx >= 0:\n",
    "            G = sum([episode_rewards[i] for i in range(update_idx, min(update_idx+n, T))])\n",
    "            if update_idx + n < T:\n",
    "                G += V[next_state]\n",
    "            V[episode_states[update_idx]] += alpha * (G - V[episode_states[update_idx]])\n",
    "        \n",
    "        if update_idx == T - 1:\n",
    "            break\n",
    "\n",
    "print(V)            "
   ]
  },
  {
   "cell_type": "code",
   "execution_count": 369,
   "metadata": {},
   "outputs": [
    {
     "data": {
      "image/png": "[encoded data removed]",
      "text/plain": [
       "<Figure size 432x288 with 1 Axes>"
      ]
     },
     "metadata": {
      "needs_background": "light"
     },
     "output_type": "display_data"
    }
   ],
   "source": [
    "plt.plot(np.arange(1, 20), V)\n",
    "plt.show()"
   ]
  }
 ],
 "metadata": {
  "kernelspec": {
   "display_name": "snowflake",
   "language": "python",
   "name": "snowflake"
  },
  "language_info": {
   "codemirror_mode": {
    "name": "ipython",
    "version": 3
   },
   "file_extension": ".py",
   "mimetype": "text/x-python",
   "name": "python",
   "nbconvert_exporter": "python",
   "pygments_lexer": "ipython3",
   "version": "3.8.0"
  }
 },
 "nbformat": 4,
 "nbformat_minor": 2
}
