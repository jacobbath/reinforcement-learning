{
 "cells": [
  {
   "cell_type": "code",
   "execution_count": 58,
   "metadata": {},
   "outputs": [],
   "source": [
    "import gym\n",
    "from gym import error, spaces, utils\n",
    "from gym.utils import seeding\n",
    "import numpy as np\n",
    "import itertools\n",
    "import matplotlib.pyplot as plt\n",
    "import tqdm"
   ]
  },
  {
   "cell_type": "code",
   "execution_count": 18,
   "metadata": {},
   "outputs": [],
   "source": [
    "class RandomWalkEnv(gym.Env):\n",
    "    metadata = {'render.modes': ['human']}\n",
    "\n",
    "    def __init__(self, size):\n",
    "        self.action_space = spaces.Discrete(2)\n",
    "        self.size = size\n",
    "    \n",
    "    def step(self):\n",
    "        reward = 0\n",
    "        action = np.random.randint(0, 2)\n",
    "        done = False\n",
    "        if (action == 0):\n",
    "            self.state -= 1\n",
    "        if (action == 1):\n",
    "            self.state += 1\n",
    "        if (self.state >= self.size):\n",
    "            reward = 1\n",
    "            done = True\n",
    "        if (self.state < 0):\n",
    "            done = True\n",
    "        return np.array(self.state), reward, done, {}\n",
    "    \n",
    "    def reset(self):\n",
    "        self.state =  int(self.size/2)\n",
    "        return self.state\n",
    "    \n",
    "    def render(self, mode='human', close=False):\n",
    "        if close:\n",
    "            return\n",
    "        for i in range(self.size):\n",
    "            if i == self.state:\n",
    "                print('O', end=' ')\n",
    "            else:\n",
    "                print('––', end=' ')"
   ]
  },
  {
   "cell_type": "code",
   "execution_count": 19,
   "metadata": {},
   "outputs": [],
   "source": [
    "env = RandomWalkEnv(19)"
   ]
  },
  {
   "cell_type": "code",
   "execution_count": 66,
   "metadata": {
    "scrolled": false
   },
   "outputs": [],
   "source": [
    "### Gradient Monte Carlo Algorithm for Estimating v\n",
    "\n",
    "num_episodes = 1000\n",
    "alpha = 0.001\n",
    "V = lambda w, state: w*state\n",
    "w = 0.05\n",
    "\n",
    "for i_episode in range(1, num_episodes+1):\n",
    "    episode = []\n",
    "    state = env.reset()\n",
    "    done = False\n",
    "    while not done:\n",
    "        next_state, reward, done, _ = env.step()\n",
    "        episode.append((state, reward))\n",
    "        state = next_state\n",
    "    for t, (state, reward) in enumerate(episode):\n",
    "        G = sum([reward for state, reward in episode[t:]])\n",
    "        w += alpha * (G - V(w, state)) * w"
   ]
  },
  {
   "cell_type": "code",
   "execution_count": 81,
   "metadata": {},
   "outputs": [],
   "source": [
    "### Semi-gradient TD(0) for estimating v\n",
    "\n",
    "num_episodes = 1000\n",
    "alpha = 0.01\n",
    "\n",
    "def V(w, state, done): \n",
    "    if done:\n",
    "        return 0 \n",
    "    else:\n",
    "        return w*state\n",
    "    \n",
    "w = 1.0\n",
    "\n",
    "for i_episode in range(1, num_episodes+1):\n",
    "    state = env.reset()\n",
    "    done = False\n",
    "    while not done:\n",
    "        next_state, reward, done, _ = env.step()\n",
    "        w += alpha * (reward + V(w, next_state, done) - V(w, state, done)) * w\n",
    "        state = next_state"
   ]
  },
  {
   "cell_type": "code",
   "execution_count": 82,
   "metadata": {},
   "outputs": [
    {
     "data": {
      "text/plain": [
       "[0.0,\n",
       " 0.34766266064686924,\n",
       " 0.6953253212937385,\n",
       " 1.0429879819406076,\n",
       " 1.390650642587477,\n",
       " 1.7383133032343463,\n",
       " 2.085975963881215,\n",
       " 2.4336386245280845,\n",
       " 2.781301285174954,\n",
       " 3.1289639458218232,\n",
       " 3.4766266064686926,\n",
       " 3.8242892671155615,\n",
       " 4.17195192776243,\n",
       " 4.5196145884093,\n",
       " 4.867277249056169,\n",
       " 5.2149399097030384,\n",
       " 5.562602570349908,\n",
       " 5.910265230996777,\n",
       " 6.2579278916436465]"
      ]
     },
     "execution_count": 82,
     "metadata": {},
     "output_type": "execute_result"
    }
   ],
   "source": [
    "[V(w, state, 0) for state in states]"
   ]
  },
  {
   "cell_type": "code",
   "execution_count": 78,
   "metadata": {},
   "outputs": [
    {
     "data": {
      "image/png": "[encoded data removed]",
      "text/plain": [
       "<Figure size 432x288 with 1 Axes>"
      ]
     },
     "metadata": {
      "needs_background": "light"
     },
     "output_type": "display_data"
    }
   ],
   "source": [
    "states = np.arange(19)\n",
    "plt.plot(states, [V(w, state, 0) for state in states])\n",
    "plt.plot(states, [(state+1)/(len(states)+1) for state in states])\n",
    "plt.xticks(states)\n",
    "plt.show()"
   ]
  }
 ],
 "metadata": {
  "kernelspec": {
   "display_name": "snowflake",
   "language": "python",
   "name": "snowflake"
  },
  "language_info": {
   "codemirror_mode": {
    "name": "ipython",
    "version": 3
   },
   "file_extension": ".py",
   "mimetype": "text/x-python",
   "name": "python",
   "nbconvert_exporter": "python",
   "pygments_lexer": "ipython3",
   "version": "3.8.0"
  }
 },
 "nbformat": 4,
 "nbformat_minor": 2
}
